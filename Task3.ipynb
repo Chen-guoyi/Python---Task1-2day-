{
 "cells": [
  {
   "cell_type": "markdown",
   "metadata": {},
   "source": [
    "# Task3（2day）"
   ]
  },
  {
   "cell_type": "markdown",
   "metadata": {},
   "source": [
    "## 1. Dict 字典"
   ]
  },
  {
   "cell_type": "markdown",
   "metadata": {},
   "source": [
    "### 1） 定义"
   ]
  },
  {
   "cell_type": "markdown",
   "metadata": {},
   "source": [
    "字典(dict, dictionary的简写)是Python中另一个非常重要的内置数据类型，是Python中映射类型(Mapping Type)，它把“键”(key)映射到“值”(value)，通过key可以快速找到value，它是一种“键值对”(key-value)数据结构。"
   ]
  },
  {
   "cell_type": "markdown",
   "metadata": {},
   "source": [
    "- “键”，可以是任意不可变的类型对象，如字符串，数字或元组，同一个字典中键是唯一的。\n",
    "- “值”，可以取任何数据类型。"
   ]
  },
  {
   "cell_type": "markdown",
   "metadata": {},
   "source": [
    "### 2）创建"
   ]
  },
  {
   "cell_type": "code",
   "execution_count": 9,
   "metadata": {},
   "outputs": [],
   "source": [
    "# 花括号创建字典，花括号内可以创建多个键值对，键值对用冒号\":\"隔开\n",
    "d1 = {} \n",
    "d2 = {'a': 1, 'b': 2, 'c': 4} \n",
    "\n",
    "# 通过 dict()创建字典\n",
    "d3 = dict()\n",
    "d4 = dict(a = 1, b = 2)\n",
    "\n",
    "# 字典推导式创建字典，通过一个for循环表达式来创建一个字典\n",
    "dict1 = {x: x*x for x in range(10)}"
   ]
  },
  {
   "cell_type": "markdown",
   "metadata": {},
   "source": [
    "- 不允许同一个键出现两次。创建时如果同一个键被赋值两次，后一个值会被记住"
   ]
  },
  {
   "cell_type": "code",
   "execution_count": 78,
   "metadata": {},
   "outputs": [
    {
     "name": "stdout",
     "output_type": "stream",
     "text": [
      "dict['Name']:  广州\n"
     ]
    }
   ],
   "source": [
    "dict = {'Name': '陈国艺', 'City': \"广州\", 'Name': '广州'}\n",
    " \n",
    "print (\"dict['Name']: \", dict['Name'])"
   ]
  },
  {
   "cell_type": "markdown",
   "metadata": {},
   "source": [
    "- 键必须不可变，所以可以用数字，字符串或元组充当，而用列表就不行"
   ]
  },
  {
   "cell_type": "code",
   "execution_count": 11,
   "metadata": {},
   "outputs": [
    {
     "ename": "TypeError",
     "evalue": "unhashable type: 'list'",
     "output_type": "error",
     "traceback": [
      "\u001b[1;31m---------------------------------------------------------------------------\u001b[0m",
      "\u001b[1;31mTypeError\u001b[0m                                 Traceback (most recent call last)",
      "\u001b[1;32m<ipython-input-11-5d0da9a5f94c>\u001b[0m in \u001b[0;36m<module>\u001b[1;34m\u001b[0m\n\u001b[1;32m----> 1\u001b[1;33m \u001b[0mdict\u001b[0m \u001b[1;33m=\u001b[0m \u001b[1;33m{\u001b[0m\u001b[1;33m[\u001b[0m\u001b[1;34m'Name'\u001b[0m\u001b[1;33m]\u001b[0m\u001b[1;33m:\u001b[0m \u001b[1;34m'陈国艺'\u001b[0m\u001b[1;33m,\u001b[0m \u001b[1;34m'Age'\u001b[0m\u001b[1;33m:\u001b[0m \u001b[1;36m28\u001b[0m\u001b[1;33m}\u001b[0m\u001b[1;33m\u001b[0m\u001b[1;33m\u001b[0m\u001b[0m\n\u001b[0m\u001b[0;32m      2\u001b[0m \u001b[1;33m\u001b[0m\u001b[0m\n\u001b[0;32m      3\u001b[0m \u001b[0mprint\u001b[0m \u001b[1;33m(\u001b[0m\u001b[1;34m\"dict['Name']: \"\u001b[0m\u001b[1;33m,\u001b[0m \u001b[0mdict\u001b[0m\u001b[1;33m[\u001b[0m\u001b[1;34m'Name'\u001b[0m\u001b[1;33m]\u001b[0m\u001b[1;33m)\u001b[0m\u001b[1;33m\u001b[0m\u001b[1;33m\u001b[0m\u001b[0m\n",
      "\u001b[1;31mTypeError\u001b[0m: unhashable type: 'list'"
     ]
    }
   ],
   "source": [
    "dict = {['Name']: '陈国艺', 'Age': 28}\n",
    " \n",
    "print (\"dict['Name']: \", dict['Name'])"
   ]
  },
  {
   "cell_type": "markdown",
   "metadata": {},
   "source": [
    "### 3）字典的方法"
   ]
  },
  {
   "cell_type": "markdown",
   "metadata": {},
   "source": [
    "- dictname.clear() 删除字典内所有元素"
   ]
  },
  {
   "cell_type": "code",
   "execution_count": 17,
   "metadata": {},
   "outputs": [
    {
     "data": {
      "text/plain": [
       "{}"
      ]
     },
     "execution_count": 17,
     "metadata": {},
     "output_type": "execute_result"
    }
   ],
   "source": [
    "dict = {'Name': '陈国艺', 'City': \"广州\"}\n",
    "dict.clear()\n",
    "dict"
   ]
  },
  {
   "cell_type": "markdown",
   "metadata": {},
   "source": [
    "- dictname.copy() 返回一个字典的浅复制"
   ]
  },
  {
   "cell_type": "code",
   "execution_count": 79,
   "metadata": {},
   "outputs": [
    {
     "name": "stdout",
     "output_type": "stream",
     "text": [
      "{'Name': '陈国艺', 'City': '广州'}\n"
     ]
    },
    {
     "data": {
      "text/plain": [
       "False"
      ]
     },
     "execution_count": 79,
     "metadata": {},
     "output_type": "execute_result"
    }
   ],
   "source": [
    "dict = {'Name': '陈国艺', 'City': \"广州\"}\n",
    "d = dict.copy()\n",
    "print(d)\n",
    "id(d) == id(dict) # 浅拷贝只是拷贝“值”，内存地址 id 没有拷贝"
   ]
  },
  {
   "cell_type": "markdown",
   "metadata": {},
   "source": [
    "- dictname.items() 以列表返回可遍历的（键，值）元组"
   ]
  },
  {
   "cell_type": "code",
   "execution_count": 72,
   "metadata": {},
   "outputs": [
    {
     "name": "stdout",
     "output_type": "stream",
     "text": [
      "dict_items([('Name', '陈国艺'), ('City', '广州')])\n"
     ]
    }
   ],
   "source": [
    "dict = {'Name': '陈国艺', 'City': \"广州\"}\n",
    "d = dict.items()\n",
    "print(d)"
   ]
  },
  {
   "cell_type": "markdown",
   "metadata": {},
   "source": [
    "- key in dictname 如果键在字典 dictname 里返回 True，否则返回 False"
   ]
  },
  {
   "cell_type": "code",
   "execution_count": 25,
   "metadata": {},
   "outputs": [
    {
     "data": {
      "text/plain": [
       "True"
      ]
     },
     "execution_count": 25,
     "metadata": {},
     "output_type": "execute_result"
    }
   ],
   "source": [
    "dict = {'Name': '陈国艺', 'City': \"广州\"}\n",
    "'Name' in dict"
   ]
  },
  {
   "cell_type": "markdown",
   "metadata": {},
   "source": [
    "- dictname.values() 返回一个迭代器，可以使用 list() 来转换为列表"
   ]
  },
  {
   "cell_type": "code",
   "execution_count": 74,
   "metadata": {},
   "outputs": [
    {
     "name": "stdout",
     "output_type": "stream",
     "text": [
      "dict_values(['陈国艺', '广州'])\n",
      "['陈国艺', '广州']\n"
     ]
    }
   ],
   "source": [
    "dict = {'Name': '陈国艺', 'City': \"广州\"}\n",
    "d = dict.values()\n",
    "print(d)\n",
    "print(list(d))"
   ]
  },
  {
   "cell_type": "markdown",
   "metadata": {},
   "source": [
    "- dictname.pop(key, [default]) 删除字典给定键 key 所对应的值，返回值为被删除的值。key值必须给出，否则，返回默认值（[default] 自主设定该默认值）。"
   ]
  },
  {
   "cell_type": "code",
   "execution_count": 9,
   "metadata": {},
   "outputs": [
    {
     "name": "stdout",
     "output_type": "stream",
     "text": [
      "陈国艺\n",
      "None\n",
      "g\n"
     ]
    }
   ],
   "source": [
    "dict = {'Name': '陈国艺', 'City': \"广州\"}\n",
    "print(dict.pop('Name', 'N'))\n",
    "print(dict.pop('', None))\n",
    "print(dict.pop('','g'))"
   ]
  },
  {
   "cell_type": "markdown",
   "metadata": {},
   "source": [
    "- dictname.popitem() 随机返回并删除字典中的一对键和值(一般删除末尾对)。"
   ]
  },
  {
   "cell_type": "code",
   "execution_count": 41,
   "metadata": {},
   "outputs": [
    {
     "data": {
      "text/plain": [
       "('City', '广州')"
      ]
     },
     "execution_count": 41,
     "metadata": {},
     "output_type": "execute_result"
    }
   ],
   "source": [
    "dict = {'Name': '陈国艺', 'City': \"广州\"}\n",
    "dict.popitem()"
   ]
  },
  {
   "cell_type": "markdown",
   "metadata": {},
   "source": [
    "- dictname.update(dictname1) 把字典 dictname1 的键值对更新到 dictname 里"
   ]
  },
  {
   "cell_type": "code",
   "execution_count": 42,
   "metadata": {},
   "outputs": [
    {
     "data": {
      "text/plain": [
       "{'Name': '陈国艺', 'City': '广州', 'Age': 26, 'Weight': 130}"
      ]
     },
     "execution_count": 42,
     "metadata": {},
     "output_type": "execute_result"
    }
   ],
   "source": [
    "dict = {'Name': '陈国艺', 'City': \"广州\"}\n",
    "dict1 = {'Age': 26, 'Weight': 130}\n",
    "dict.update(dict1)\n",
    "dict"
   ]
  },
  {
   "cell_type": "markdown",
   "metadata": {},
   "source": [
    "- dictname.get(key[,default]) 返回指定键的值，如果值不在字典中返回默认值（[default] 可选参数，不指定参数会返回None，可自主设定参数）"
   ]
  },
  {
   "cell_type": "code",
   "execution_count": 5,
   "metadata": {},
   "outputs": [
    {
     "name": "stdout",
     "output_type": "stream",
     "text": [
      "None\n",
      "hahah\n"
     ]
    }
   ],
   "source": [
    "dict = {'Name': '陈国艺', 'City': \"广州\"}\n",
    "print(dict.get('Age'))\n",
    "print(dict.get('Weight', 'hahah'))"
   ]
  },
  {
   "cell_type": "markdown",
   "metadata": {},
   "source": [
    "- dictname.setdefault(key, default=?) 和get()类似, 但如果键不存在于字典中，将会添加键并将值设为default"
   ]
  },
  {
   "cell_type": "code",
   "execution_count": 10,
   "metadata": {},
   "outputs": [
    {
     "data": {
      "text/plain": [
       "{'Name': '陈国艺', 'City': '广州', 'Age': 27}"
      ]
     },
     "execution_count": 10,
     "metadata": {},
     "output_type": "execute_result"
    }
   ],
   "source": [
    "dict = {'Name': '陈国艺', 'City': \"广州\"}\n",
    "dict.setdefault('Age', 27)\n",
    "dict"
   ]
  },
  {
   "cell_type": "markdown",
   "metadata": {},
   "source": [
    "- dictname.fromkeys(seq[, value]) 创建一个新字典，以序列seq中元素做字典的键，value 为字典所有键对应的初始值（value 为可选参数）"
   ]
  },
  {
   "cell_type": "code",
   "execution_count": 16,
   "metadata": {},
   "outputs": [
    {
     "name": "stdout",
     "output_type": "stream",
     "text": [
      "{'Google': None, 'Baidu': None, 'Yahoo': None}\n",
      "搜索引擎为 ： {'Google': None, 'Baidu': None, 'Yahoo': None}\n",
      "{'Google': 20, 'Baidu': 20, 'Yahoo': 20}\n",
      "常用的引擎 ： {'Google': 20, 'Baidu': 20, 'Yahoo': 20}\n"
     ]
    }
   ],
   "source": [
    "seq = ('Google', 'Baidu', 'Yahoo')\n",
    "print(dict.fromkeys(seq))\n",
    "dict = dict.fromkeys(seq)\n",
    "print(\"搜索引擎为 ： {0}\".format(str(dict)))\n",
    "\n",
    "print(dict.fromkeys(seq, 20))\n",
    "dict = dict.fromkeys(seq, 20)\n",
    "print(\"常用的引擎 ： {0}\".format(str(dict)))"
   ]
  },
  {
   "cell_type": "markdown",
   "metadata": {},
   "source": [
    "- dictname.keys()返回一个迭代器，可以用list()来转换为列表"
   ]
  },
  {
   "cell_type": "code",
   "execution_count": 68,
   "metadata": {},
   "outputs": [
    {
     "data": {
      "text/plain": [
       "['Name', 'City']"
      ]
     },
     "execution_count": 68,
     "metadata": {},
     "output_type": "execute_result"
    }
   ],
   "source": [
    "dict = {'Name': '陈国艺', 'City': \"广州\"}\n",
    "dict.keys()\n",
    "list(dict.keys())"
   ]
  },
  {
   "cell_type": "markdown",
   "metadata": {},
   "source": [
    "## 2. 集合"
   ]
  },
  {
   "cell_type": "markdown",
   "metadata": {},
   "source": [
    "### 1） 特性 "
   ]
  },
  {
   "cell_type": "markdown",
   "metadata": {},
   "source": [
    "- 集合（set）是一个无序的不重复元素序列。"
   ]
  },
  {
   "cell_type": "markdown",
   "metadata": {},
   "source": [
    "### 2） 创建 "
   ]
  },
  {
   "cell_type": "markdown",
   "metadata": {},
   "source": [
    "- 使用大括号 { } 创建"
   ]
  },
  {
   "cell_type": "code",
   "execution_count": 18,
   "metadata": {},
   "outputs": [
    {
     "data": {
      "text/plain": [
       "{1, 2, 3, 4}"
      ]
     },
     "execution_count": 18,
     "metadata": {},
     "output_type": "execute_result"
    }
   ],
   "source": [
    "set1 = {1, 2, 3, 4, 4}\n",
    "set1"
   ]
  },
  {
   "cell_type": "markdown",
   "metadata": {},
   "source": [
    "- 使用set() 函数创建集合"
   ]
  },
  {
   "cell_type": "code",
   "execution_count": 19,
   "metadata": {},
   "outputs": [
    {
     "name": "stdout",
     "output_type": "stream",
     "text": [
      "set()\n"
     ]
    }
   ],
   "source": [
    "set2 = set()\n",
    "print(set2)"
   ]
  },
  {
   "cell_type": "code",
   "execution_count": 22,
   "metadata": {},
   "outputs": [
    {
     "name": "stdout",
     "output_type": "stream",
     "text": [
      "{'5', '2', '3', '6', '4', '1'}\n",
      "{'a', 'd', 'b', 'c', 's'}\n"
     ]
    }
   ],
   "source": [
    "set3 = set('123456')\n",
    "print(set3)\n",
    "set4 = set('abscdsd')\n",
    "print(set4)"
   ]
  },
  {
   "cell_type": "markdown",
   "metadata": {},
   "source": [
    "*注意：创建一个空集合必须用 set() 函数而不是大括号 { }，因为 { } 是用来创建一个空字典"
   ]
  },
  {
   "cell_type": "markdown",
   "metadata": {},
   "source": [
    "- 通过集合推导式创建集合，for...in...循环表达式来创建一个集合"
   ]
  },
  {
   "cell_type": "code",
   "execution_count": 80,
   "metadata": {},
   "outputs": [
    {
     "data": {
      "text/plain": [
       "{'a', 'b', 'c', 'd', 'e', 'g', 'h', 's', 't'}"
      ]
     },
     "execution_count": 80,
     "metadata": {},
     "output_type": "execute_result"
    }
   ],
   "source": [
    "set1 = {x for x in 'abdcgteshdh'}\n",
    "set1"
   ]
  },
  {
   "cell_type": "markdown",
   "metadata": {},
   "source": [
    "### 3） 方法"
   ]
  },
  {
   "cell_type": "markdown",
   "metadata": {},
   "source": [
    "- set.add() 为集合添加元素"
   ]
  },
  {
   "cell_type": "code",
   "execution_count": 91,
   "metadata": {},
   "outputs": [
    {
     "name": "stdout",
     "output_type": "stream",
     "text": [
      "{'a', 'e', 'f', 'd', 'b', 'c', 'g'}\n"
     ]
    },
    {
     "data": {
      "text/plain": [
       "{'a', 'b', 'c', 'd', 'e', 'f', 'g', 'k'}"
      ]
     },
     "execution_count": 91,
     "metadata": {},
     "output_type": "execute_result"
    }
   ],
   "source": [
    "set1 = set('abcdefg')\n",
    "print(set1)\n",
    "set1.add('k')\n",
    "set1"
   ]
  },
  {
   "cell_type": "markdown",
   "metadata": {},
   "source": [
    "- set.clear() 移除集合中的所有元素"
   ]
  },
  {
   "cell_type": "code",
   "execution_count": 94,
   "metadata": {},
   "outputs": [
    {
     "data": {
      "text/plain": [
       "set()"
      ]
     },
     "execution_count": 94,
     "metadata": {},
     "output_type": "execute_result"
    }
   ],
   "source": [
    "set1 = set('abcdefg')\n",
    "set1.clear()\n",
    "set1"
   ]
  },
  {
   "cell_type": "markdown",
   "metadata": {},
   "source": [
    "- set.difference() 返回多个集合的差值"
   ]
  },
  {
   "cell_type": "code",
   "execution_count": 100,
   "metadata": {},
   "outputs": [
    {
     "name": "stdout",
     "output_type": "stream",
     "text": [
      "{'h'}\n",
      "{'c', 'a', 'e', 'b'}\n"
     ]
    }
   ],
   "source": [
    "set1 = set('abcdefg')\n",
    "set2 = set('fghd')\n",
    "print(set2.difference(set1))\n",
    "print(set1.difference(set2))"
   ]
  },
  {
   "cell_type": "markdown",
   "metadata": {},
   "source": [
    "- set.intersection() 返回集合的交集"
   ]
  },
  {
   "cell_type": "code",
   "execution_count": 101,
   "metadata": {},
   "outputs": [
    {
     "data": {
      "text/plain": [
       "{'d', 'f', 'g'}"
      ]
     },
     "execution_count": 101,
     "metadata": {},
     "output_type": "execute_result"
    }
   ],
   "source": [
    "set1 = set('abcdefg')\n",
    "set2 = set('fghd')\n",
    "set1.intersection(set2)"
   ]
  },
  {
   "cell_type": "markdown",
   "metadata": {},
   "source": [
    "- set.isdisjoint() 判断两个集合是否包含相同的元素，如果没有返回 True，否则返回 False。"
   ]
  },
  {
   "cell_type": "code",
   "execution_count": 105,
   "metadata": {},
   "outputs": [
    {
     "name": "stdout",
     "output_type": "stream",
     "text": [
      "False\n",
      "True\n"
     ]
    }
   ],
   "source": [
    "set1 = set('abcdefg')\n",
    "set2 = set('fghd')\n",
    "print(set1.isdisjoint(set2))\n",
    "set3 = set('jkl')\n",
    "print(set3.isdisjoint(set1))"
   ]
  },
  {
   "cell_type": "markdown",
   "metadata": {},
   "source": [
    "- set.issubset() 判断指定集合是否为该方法参数集合的子集。如果不是，返回False，否则返回True"
   ]
  },
  {
   "cell_type": "code",
   "execution_count": 106,
   "metadata": {},
   "outputs": [
    {
     "data": {
      "text/plain": [
       "False"
      ]
     },
     "execution_count": 106,
     "metadata": {},
     "output_type": "execute_result"
    }
   ],
   "source": [
    "set1 = set('abcdefg')\n",
    "set2 = set('fghd')\n",
    "set2.issubset(set1)"
   ]
  },
  {
   "cell_type": "markdown",
   "metadata": {},
   "source": [
    "- set.issuperset() 判断该方法的参数集合是否为指定集合的子集。如果不是，返回False，否则返回True"
   ]
  },
  {
   "cell_type": "code",
   "execution_count": 109,
   "metadata": {},
   "outputs": [
    {
     "data": {
      "text/plain": [
       "True"
      ]
     },
     "execution_count": 109,
     "metadata": {},
     "output_type": "execute_result"
    }
   ],
   "source": [
    "set1 = set('abcdefg')\n",
    "set2 = set('fg')\n",
    "set1.issuperset(set2)"
   ]
  },
  {
   "cell_type": "markdown",
   "metadata": {},
   "source": [
    "- set.union() 返回两个集合的并集"
   ]
  },
  {
   "cell_type": "code",
   "execution_count": 107,
   "metadata": {},
   "outputs": [
    {
     "data": {
      "text/plain": [
       "{'a', 'b', 'c', 'd', 'e', 'f', 'g', 'h'}"
      ]
     },
     "execution_count": 107,
     "metadata": {},
     "output_type": "execute_result"
    }
   ],
   "source": [
    "set1 = set('abcdefg')\n",
    "set2 = set('fghd')\n",
    "set1.union(set2)"
   ]
  },
  {
   "cell_type": "markdown",
   "metadata": {},
   "source": [
    "## 3. 判断语句（要求掌握多条件判断）"
   ]
  },
  {
   "cell_type": "markdown",
   "metadata": {},
   "source": [
    "### if 语句一般形式： elif 、else为可选部分"
   ]
  },
  {
   "cell_type": "markdown",
   "metadata": {},
   "source": [
    "if <test1>:\n",
    "    <statements1>\n",
    "elif <test2>:\n",
    "        <statements2>\n",
    "else:\n",
    "    <statements3>"
   ]
  },
  {
   "cell_type": "code",
   "execution_count": 36,
   "metadata": {},
   "outputs": [
    {
     "name": "stdout",
     "output_type": "stream",
     "text": [
      "它是一个数字： -20\n",
      "End\n"
     ]
    }
   ],
   "source": [
    "# 玩猜字游戏\n",
    "y = 27\n",
    "x = eval(input(\"它是一个数字： \"))\n",
    "if x == y:\n",
    "    print(\"WOW, you are awesome\")\n",
    "elif x > y:\n",
    "    print(\"No, it is too big\")\n",
    "elif 0 < x < y:\n",
    "    print(\"No, it is an int. We forget to tell you. Come on, boy, try again\")\n",
    "elif x == 0:\n",
    "    print(\"I can't believe you gave me an egg last test\")\n",
    "else:\n",
    "    print(\"End\")"
   ]
  },
  {
   "cell_type": "markdown",
   "metadata": {},
   "source": [
    "## 4. 三目表达式"
   ]
  },
  {
   "cell_type": "markdown",
   "metadata": {},
   "source": [
    "###  Y if X else Z"
   ]
  },
  {
   "cell_type": "markdown",
   "metadata": {},
   "source": [
    "*只有当 X 为真，Python 才会执行表达式 Y，而只有当 X 为假，才会执行表达式 Z"
   ]
  },
  {
   "cell_type": "code",
   "execution_count": 39,
   "metadata": {},
   "outputs": [
    {
     "data": {
      "text/plain": [
       "'广州'"
      ]
     },
     "execution_count": 39,
     "metadata": {},
     "output_type": "execute_result"
    }
   ],
   "source": [
    "\"广州\" if \"hotest\" else \"武汉\""
   ]
  },
  {
   "cell_type": "code",
   "execution_count": 41,
   "metadata": {},
   "outputs": [
    {
     "data": {
      "text/plain": [
       "'武汉'"
      ]
     },
     "execution_count": 41,
     "metadata": {},
     "output_type": "execute_result"
    }
   ],
   "source": [
    "\"广州\" if \"\" else \"武汉\""
   ]
  },
  {
   "cell_type": "code",
   "execution_count": 42,
   "metadata": {},
   "outputs": [
    {
     "data": {
      "text/plain": [
       "'糖吃多了，会蛀牙'"
      ]
     },
     "execution_count": 42,
     "metadata": {},
     "output_type": "execute_result"
    }
   ],
   "source": [
    "\"一颗不二家棒棒糖\" if False else \"糖吃多了，会蛀牙\""
   ]
  },
  {
   "cell_type": "code",
   "execution_count": 43,
   "metadata": {},
   "outputs": [
    {
     "data": {
      "text/plain": [
       "'一颗不二家棒棒糖'"
      ]
     },
     "execution_count": 43,
     "metadata": {},
     "output_type": "execute_result"
    }
   ],
   "source": [
    "\"一颗不二家棒棒糖\" if True else \"糖吃多了，会蛀牙\""
   ]
  },
  {
   "cell_type": "markdown",
   "metadata": {},
   "source": [
    "## 5. 循环语句"
   ]
  },
  {
   "cell_type": "markdown",
   "metadata": {},
   "source": [
    " Python中的循环语句有 while 和 for"
   ]
  },
  {
   "cell_type": "markdown",
   "metadata": {},
   "source": [
    "### while 循环语句"
   ]
  },
  {
   "cell_type": "markdown",
   "metadata": {},
   "source": [
    "#### 1. 一般格式"
   ]
  },
  {
   "cell_type": "markdown",
   "metadata": {},
   "source": [
    "while <test>:\n",
    "    <statements1>\n",
    "else:                 # else 为可选部分\n",
    "    <statements2>"
   ]
  },
  {
   "cell_type": "code",
   "execution_count": 53,
   "metadata": {},
   "outputs": [
    {
     "name": "stdout",
     "output_type": "stream",
     "text": [
      "fantastic, antastic, ntastic, tastic, astic, stic, tic, ic, c, END\n"
     ]
    }
   ],
   "source": [
    "x = 'fantastic'\n",
    "while x:\n",
    "    print(x, end=', ')\n",
    "    x = x[1:]\n",
    "else:\n",
    "    print(\"END\")"
   ]
  },
  {
   "cell_type": "markdown",
   "metadata": {},
   "source": [
    "#### 2. break\\ continue\\ pass 和循环 else"
   ]
  },
  {
   "cell_type": "markdown",
   "metadata": {},
   "source": [
    "- break ：跳出最近所在的循环（跳过整个循环语句）\n",
    "----\n",
    "- continue ：跳到最近所在循环的开头处（来到循环的首行）\n",
    "----\n",
    "- 循环 else 块 ：只有当循环正常离开时才会执行（也就是没有碰到 break 语句）\n",
    "----\n",
    "- pass :pass语句是无运算的占位语句"
   ]
  },
  {
   "cell_type": "markdown",
   "metadata": {},
   "source": [
    "while <test1>:\n",
    "    <statements1>\n",
    "    if <test2>: break\n",
    "    if <test3>: continue\n",
    "else:\n",
    "    <statements2>"
   ]
  },
  {
   "cell_type": "code",
   "execution_count": 54,
   "metadata": {},
   "outputs": [
    {
     "name": "stdout",
     "output_type": "stream",
     "text": [
      "8 6 4 2 0 "
     ]
    }
   ],
   "source": [
    "x = 10\n",
    "while x:\n",
    "    x -= 1\n",
    "    if x % 2 != 0: continue\n",
    "    print(x, end=' ')"
   ]
  },
  {
   "cell_type": "code",
   "execution_count": 63,
   "metadata": {},
   "outputs": [
    {
     "name": "stdout",
     "output_type": "stream",
     "text": [
      "8 6 4 2 0 "
     ]
    }
   ],
   "source": [
    "x = 10\n",
    "while x:\n",
    "    x -= 1\n",
    "    if x % 2 == 0:   # 无continue，判断语句条件等式发生改变\n",
    "        print(x, end=' ')"
   ]
  },
  {
   "cell_type": "code",
   "execution_count": 66,
   "metadata": {},
   "outputs": [
    {
     "name": "stdout",
     "output_type": "stream",
     "text": [
      "Enter your name: guoyi\n",
      "Enter your age: 20\n",
      "Hello guoyi => 400\n",
      "Enter your name: stop\n",
      "End\n"
     ]
    }
   ],
   "source": [
    "while True:\n",
    "    name = input('Enter your name: ')\n",
    "    if name == 'stop': break\n",
    "    age = eval(input('Enter your age: '))\n",
    "    print('Hello', name, '=>', age**2)\n",
    "print('End')"
   ]
  },
  {
   "cell_type": "code",
   "execution_count": 70,
   "metadata": {},
   "outputs": [
    {
     "name": "stdout",
     "output_type": "stream",
     "text": [
      "Enter a number: 18\n",
      "18 has factor 9\n"
     ]
    }
   ],
   "source": [
    "y = eval(input('Enter a number: '))\n",
    "x = y // 2\n",
    "while x > 1:\n",
    "    if y % x == 0:\n",
    "        print(y, 'has factor', x)\n",
    "        break\n",
    "    x -= 1\n",
    "else:\n",
    "    print(y, 'is prime')"
   ]
  },
  {
   "cell_type": "markdown",
   "metadata": {},
   "source": [
    "### for 循环语句"
   ]
  },
  {
   "cell_type": "markdown",
   "metadata": {},
   "source": [
    "for 循环是一个通用的序列迭代器：可以遍历任何有序的序列对象内的元素，包括字符串、列表、元组、其它内置可迭代对象等"
   ]
  },
  {
   "cell_type": "markdown",
   "metadata": {},
   "source": [
    "- 一般格式"
   ]
  },
  {
   "cell_type": "markdown",
   "metadata": {},
   "source": [
    "for <target> in <object>:\n",
    "    <statements>\n",
    "else:    # 可选部分\n",
    "<statements>"
   ]
  },
  {
   "cell_type": "markdown",
   "metadata": {},
   "source": [
    "- 添加 break/continue 语句"
   ]
  },
  {
   "cell_type": "markdown",
   "metadata": {},
   "source": [
    "for <target> in <object>:\n",
    "    <statements>\n",
    "    if <test>: break\n",
    "    if <test>: continue\n",
    "else:\n",
    "    <statements>"
   ]
  },
  {
   "cell_type": "code",
   "execution_count": 71,
   "metadata": {},
   "outputs": [
    {
     "name": "stdout",
     "output_type": "stream",
     "text": [
      "spam eggs ham "
     ]
    }
   ],
   "source": [
    "# for 循环可用于列表数据\n",
    "for x in [\"spam\", \"eggs\", \"ham\"]:\n",
    "    print(x, end=' ')\n",
    "    "
   ]
  },
  {
   "cell_type": "code",
   "execution_count": 72,
   "metadata": {},
   "outputs": [
    {
     "data": {
      "text/plain": [
       "10"
      ]
     },
     "execution_count": 72,
     "metadata": {},
     "output_type": "execute_result"
    }
   ],
   "source": [
    "# for 循环可用于列表数据\n",
    "sum = 0\n",
    "for x in [1, 2, 3, 4]:\n",
    "    sum += x\n",
    "sum"
   ]
  },
  {
   "cell_type": "code",
   "execution_count": 73,
   "metadata": {},
   "outputs": [
    {
     "name": "stdout",
     "output_type": "stream",
     "text": [
      "C H E N G U O Y I "
     ]
    }
   ],
   "source": [
    "# for 循环可用于字符串\n",
    "S = \"CHENGUOYI\"\n",
    "for x in S:\n",
    "    print(x, end=' ')\n",
    "    "
   ]
  },
  {
   "cell_type": "code",
   "execution_count": 74,
   "metadata": {},
   "outputs": [
    {
     "name": "stdout",
     "output_type": "stream",
     "text": [
      "and I'm okay "
     ]
    }
   ],
   "source": [
    "# for 循环可用于元组\n",
    "T = (\"and\", \"I'm\", \"okay\")\n",
    "for x in T:\n",
    "    print(x, end=' ')\n",
    "    "
   ]
  },
  {
   "cell_type": "code",
   "execution_count": 75,
   "metadata": {},
   "outputs": [
    {
     "name": "stdout",
     "output_type": "stream",
     "text": [
      "(4, 5) was found\n",
      "3.14 not found\n"
     ]
    }
   ],
   "source": [
    "# 嵌套 if 判断语句，break 语句\n",
    "items = [\"aaa\", 111, (4, 5), 2.01]\n",
    "tests = [(4, 5), 3.14]\n",
    "for key in tests:\n",
    "    for item in items:\n",
    "        if item == key:\n",
    "            print(key, \"was found\")\n",
    "            break\n",
    "    else:\n",
    "        print(key, \"not found\")"
   ]
  },
  {
   "cell_type": "code",
   "execution_count": null,
   "metadata": {},
   "outputs": [],
   "source": []
  }
 ],
 "metadata": {
  "kernelspec": {
   "display_name": "Python 3",
   "language": "python",
   "name": "python3"
  },
  "language_info": {
   "codemirror_mode": {
    "name": "ipython",
    "version": 3
   },
   "file_extension": ".py",
   "mimetype": "text/x-python",
   "name": "python",
   "nbconvert_exporter": "python",
   "pygments_lexer": "ipython3",
   "version": "3.7.3"
  }
 },
 "nbformat": 4,
 "nbformat_minor": 2
}
